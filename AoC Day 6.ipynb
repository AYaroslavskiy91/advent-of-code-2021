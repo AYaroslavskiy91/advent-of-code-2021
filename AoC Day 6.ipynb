{
 "cells": [
  {
   "cell_type": "code",
   "execution_count": 4,
   "metadata": {},
   "outputs": [],
   "source": [
    "import numpy as np\n",
    "from collections import deque"
   ]
  },
  {
   "cell_type": "code",
   "execution_count": 9,
   "metadata": {},
   "outputs": [],
   "source": [
    "def new_day(timer_list):\n",
    "    new_timer_list = deque(timer_list)\n",
    "    new_timer_list.rotate(-1)\n",
    "    new_timer_list[6]+=timer_list[0]\n",
    "    return new_timer_list"
   ]
  },
  {
   "cell_type": "code",
   "execution_count": 29,
   "metadata": {},
   "outputs": [
    {
     "data": {
      "text/plain": [
       "1609058859115"
      ]
     },
     "execution_count": 29,
     "metadata": {},
     "output_type": "execute_result"
    }
   ],
   "source": [
    "f = open(r'C:\\Users\\19177\\Desktop\\Python Projects\\Programming-Puzzles\\Advent of Code\\Advent of Code Input\\Advent Day 6.txt','r')\n",
    "lines = f.readlines()\n",
    "\n",
    "#track number of timers for each timer representing days until reproduction. Sum all timers at the end. Shift values each iteration.\n",
    "timer_list = np.zeros(9)\n",
    "initial_conditions = [int(input) for input in lines[0].split(\",\")]\n",
    "\n",
    "for idx in range(len(initial_conditions)):\n",
    "    timer_list[initial_conditions[idx]]+=1\n",
    "    \n",
    "num_days = 256\n",
    "\n",
    "for day in range(num_days):\n",
    "    timer_list = new_day(timer_list)\n",
    "    \n",
    "int(sum(timer_list))"
   ]
  },
  {
   "cell_type": "code",
   "execution_count": null,
   "metadata": {},
   "outputs": [],
   "source": []
  }
 ],
 "metadata": {
  "kernelspec": {
   "display_name": "Python 3",
   "language": "python",
   "name": "python3"
  },
  "language_info": {
   "codemirror_mode": {
    "name": "ipython",
    "version": 3
   },
   "file_extension": ".py",
   "mimetype": "text/x-python",
   "name": "python",
   "nbconvert_exporter": "python",
   "pygments_lexer": "ipython3",
   "version": "3.7.3"
  }
 },
 "nbformat": 4,
 "nbformat_minor": 2
}
