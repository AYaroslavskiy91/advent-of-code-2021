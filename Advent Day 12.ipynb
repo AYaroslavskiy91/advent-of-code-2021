{
 "cells": [
  {
   "cell_type": "code",
   "execution_count": 121,
   "metadata": {},
   "outputs": [
    {
     "name": "stdout",
     "output_type": "stream",
     "text": [
      "Part 1 solution: 3887\n",
      "Part 2 solution: 104834\n"
     ]
    }
   ],
   "source": [
    "def find_paths(graph, start, end, path=[]):\n",
    "    path.append(start)\n",
    "    if start == end:\n",
    "        return [path]\n",
    "    paths = []\n",
    "    for node in graph[start]:\n",
    "        if node in path and node.islower():\n",
    "            continue\n",
    "        else:\n",
    "            newpaths = find_paths(graph, node, end, path.copy())\n",
    "            for newpath in newpaths:\n",
    "                paths.append(newpath)\n",
    "    return paths\n",
    "\n",
    "def find_paths_part_2(graph, start, end, path=[]):\n",
    "    path.append(start)\n",
    "    if start == end:\n",
    "        return [path]\n",
    "    paths = []\n",
    "    for node in graph[start]:\n",
    "        \n",
    "        if node == 'start':\n",
    "            continue\n",
    "            \n",
    "        double_up_on_the_bubble_up = False\n",
    "        small_caves = [idx for idx in path if idx.islower()]\n",
    "        for cave in small_caves:\n",
    "            if path.count(cave) == 2:\n",
    "                double_up_on_the_bubble_up =  True\n",
    "                break\n",
    "    \n",
    "        if node in path and node.islower() and not double_up_on_the_bubble_up:\n",
    "            newpaths = find_paths_part_2(graph, node, end, path.copy())\n",
    "            for newpath in newpaths:\n",
    "                paths.append(newpath)\n",
    "        elif node in path and node.islower() and double_up_on_the_bubble_up:\n",
    "            continue\n",
    "        else:\n",
    "            newpaths = find_paths_part_2(graph, node, end, path.copy())\n",
    "            for newpath in newpaths:\n",
    "                paths.append(newpath)\n",
    "    return paths\n",
    "\n",
    "f = open(r'C:\\Users\\19177\\Desktop\\Python Projects\\Programming-Puzzles\\Advent of Code\\Advent of Code Input\\Advent Day 12.txt','r')\n",
    "lines = f.readlines()\n",
    "\n",
    "edges = []\n",
    "nodes = []\n",
    "for line in lines:\n",
    "    edges.append((line.split(\"-\")[0], line.split(\"-\")[1].strip()))\n",
    "    nodes.append(edges[-1][0])\n",
    "    nodes.append(edges[-1][1])\n",
    "\n",
    "nodes = list(set(nodes))\n",
    "\n",
    "adjacencies = []\n",
    "for node in nodes:\n",
    "    adj_node = []\n",
    "    for edge in edges:\n",
    "        if node in edge:\n",
    "            if node == edge[0]:\n",
    "                adj_node.append(edge[1])\n",
    "            else:\n",
    "                adj_node.append(edge[0])\n",
    "    adjacencies.append(adj_node)           \n",
    "\n",
    "graph = {}\n",
    "for idx in range(len(nodes)):\n",
    "    graph[nodes[idx]] = (adjacencies[idx])\n",
    "\n",
    "total_paths = find_paths(graph, 'start', 'end')\n",
    "total_paths_part_2 = find_paths_part_2(graph, 'start', 'end')\n",
    "\n",
    "print(\"Part 1 solution: \" + str(len(total_paths)))\n",
    "print(\"Part 2 solution: \" + str(len(total_paths_part_2)))"
   ]
  }
 ],
 "metadata": {
  "kernelspec": {
   "display_name": "Python 3",
   "language": "python",
   "name": "python3"
  },
  "language_info": {
   "codemirror_mode": {
    "name": "ipython",
    "version": 3
   },
   "file_extension": ".py",
   "mimetype": "text/x-python",
   "name": "python",
   "nbconvert_exporter": "python",
   "pygments_lexer": "ipython3",
   "version": "3.7.3"
  }
 },
 "nbformat": 4,
 "nbformat_minor": 2
}
