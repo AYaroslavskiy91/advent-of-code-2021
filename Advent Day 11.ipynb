{
 "cells": [
  {
   "cell_type": "code",
   "execution_count": 75,
   "metadata": {},
   "outputs": [
    {
     "data": {
      "text/plain": [
       "273"
      ]
     },
     "execution_count": 75,
     "metadata": {},
     "output_type": "execute_result"
    }
   ],
   "source": [
    "import numpy as np\n",
    "\n",
    "def flash(grid, idx, idx_2):\n",
    "    neighbors = [(idx-1, idx_2-1), (idx, idx_2-1), (idx+1, idx_2-1),\n",
    "                (idx-1, idx_2), (idx+1, idx_2),\n",
    "                (idx-1, idx_2+1), (idx, idx_2+1), (idx+1, idx_2+1)]\n",
    "    grid[idx][idx_2] = 0\n",
    "    for node in neighbors:\n",
    "        if node[0] >= 0 and node[0] < len(grid) and node[1] >= 0 and node[1] < len(grid[0]):\n",
    "            if grid[node[0]][node[1]] != 0:\n",
    "                grid[node[0]][node[1]] +=1 \n",
    "    return grid\n",
    "    \n",
    "def step(grid):\n",
    "    current_flash_count = 0\n",
    "    for idx in range(len(grid)):\n",
    "        grid[idx] = [x+1 for x in grid[idx]]\n",
    "    \n",
    "    not_over = True\n",
    "    while(not_over):\n",
    "        step_flash_count = 0\n",
    "        for idx in range(len(grid)):\n",
    "            for idx_2 in range(len(grid[idx])):\n",
    "                if grid[idx][idx_2] > 9:\n",
    "                    grid = flash(grid, idx, idx_2)\n",
    "                    step_flash_count += 1\n",
    "        if step_flash_count != 0:\n",
    "            current_flash_count += step_flash_count\n",
    "        else:\n",
    "            not_over = False\n",
    "    \n",
    "    return grid, current_flash_count\n",
    "                \n",
    "f = open(r'C:\\Users\\19177\\Desktop\\Python Projects\\Programming-Puzzles\\Advent of Code\\Advent of Code Input\\Advent Day 11.txt','r')\n",
    "lines = f.readlines()\n",
    "\n",
    "energy = [list(map(int, idx.split()[0])) for idx in lines]\n",
    "\n",
    "days = 100\n",
    "total_flashes = 0\n",
    "\n",
    "for day in range(days):\n",
    "    energy, flashes = step(energy)\n",
    "    total_flashes += flashes\n",
    "\n",
    "    \n",
    "while (sum(sum(energy,[])) != 0):\n",
    "    step(energy)\n",
    "    days+=1\n",
    "\n",
    "days"
   ]
  }
 ],
 "metadata": {
  "kernelspec": {
   "display_name": "Python 3",
   "language": "python",
   "name": "python3"
  },
  "language_info": {
   "codemirror_mode": {
    "name": "ipython",
    "version": 3
   },
   "file_extension": ".py",
   "mimetype": "text/x-python",
   "name": "python",
   "nbconvert_exporter": "python",
   "pygments_lexer": "ipython3",
   "version": "3.7.3"
  }
 },
 "nbformat": 4,
 "nbformat_minor": 2
}
