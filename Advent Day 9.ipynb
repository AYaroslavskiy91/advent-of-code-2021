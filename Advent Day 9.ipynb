{
 "cells": [
  {
   "cell_type": "code",
   "execution_count": 129,
   "metadata": {},
   "outputs": [
    {
     "name": "stdout",
     "output_type": "stream",
     "text": [
      "572\n",
      "847044\n"
     ]
    }
   ],
   "source": [
    "import numpy as np\n",
    "\n",
    "def check_min(landscape, x, y):\n",
    "    return landscape[x][y]<landscape[x+1][y] and landscape[x][y]<landscape[x-1][y] and landscape[x][y]<landscape[x][y+1] and landscape[x][y]<landscape[x][y-1]\n",
    "\n",
    "def basin_size(landscape, x, y, size = 0):\n",
    "    \n",
    "   \n",
    "    landscape[x,y] = 9\n",
    "    \n",
    "    neighbors = [(x+1,y), (x-1,y), (x,y+1), (x,y-1)]\n",
    "    for node in neighbors:\n",
    "        if landscape[node[0],node[1]] != 9:\n",
    "            size, landscape = basin_size(landscape,node[0],node[1], size)\n",
    "            \n",
    "    return size+1, landscape\n",
    "\n",
    "f = open(r'C:\\Users\\19177\\Desktop\\Python Projects\\Programming-Puzzles\\Advent of Code\\Advent of Code Input\\Advent Day 9.txt','r')\n",
    "lines = f.readlines()\n",
    "\n",
    "landscape = [list(map(int, idx.split()[0])) for idx in lines]\n",
    "landscape = np.pad(landscape, pad_width=1, mode='constant', constant_values=9)\n",
    "\n",
    "risk_level = 0 \n",
    "basin_sizes = []\n",
    "for x in range(1,len(landscape)-1):\n",
    "    for y in range(1, len(landscape[0])-1):\n",
    "        if check_min(landscape,x,y):\n",
    "            risk_level += (landscape[x,y]+1)\n",
    "            basin_sizes.append(basin_size(landscape, x, y)[0])\n",
    "print(risk_level)\n",
    "\n",
    "basin_sizes.sort(reverse = True)\n",
    "print(np.prod(basin_sizes[0:3]))\n"
   ]
  }
 ],
 "metadata": {
  "kernelspec": {
   "display_name": "Python 3",
   "language": "python",
   "name": "python3"
  },
  "language_info": {
   "codemirror_mode": {
    "name": "ipython",
    "version": 3
   },
   "file_extension": ".py",
   "mimetype": "text/x-python",
   "name": "python",
   "nbconvert_exporter": "python",
   "pygments_lexer": "ipython3",
   "version": "3.7.3"
  }
 },
 "nbformat": 4,
 "nbformat_minor": 2
}
