{
 "cells": [
  {
   "cell_type": "code",
   "execution_count": 9,
   "metadata": {},
   "outputs": [],
   "source": [
    "import numpy as np"
   ]
  },
  {
   "cell_type": "code",
   "execution_count": 121,
   "metadata": {},
   "outputs": [],
   "source": [
    "class grid:\n",
    "    def __init__(self, size):\n",
    "        self.state = np.zeros((size,size))\n",
    "        \n",
    "    def increase_point(self, coords):\n",
    "        self.state[coords[0]][coords[1]] +=1\n",
    "     \n",
    "    #We know a priori that the lines here are horizontal or vertical\n",
    "    def plot_straight_line(self, x1y1, x2y2):\n",
    "        #vertical line\n",
    "        if x1y1[0] == x2y2[0]:\n",
    "            low = min (x1y1[1],x2y2[1])\n",
    "            high = max (x1y1[1],x2y2[1])\n",
    "            for y_val in range(low, high+1):\n",
    "                self.increase_point((y_val,x1y1[0]))\n",
    "        #horizontal line\n",
    "        elif x1y1[1] == x2y2[1]:\n",
    "            low = min (x1y1[0],x2y2[0])\n",
    "            high = max (x1y1[0],x2y2[0])\n",
    "            for x_val in range(low, high+1):\n",
    "                self.increase_point((x1y1[1],x_val))  \n",
    "        \n",
    "        #we know that the diagonal lines are at 45 degrees, so this makes things easier\n",
    "    def plot_diagonal_line(self, x1y1, x2y2):\n",
    "        low_x = min (x1y1[1],x2y2[1])\n",
    "        high_x = max (x1y1[1],x2y2[1])\n",
    "        \n",
    "        low_y = min (x1y1[0],x2y2[0])\n",
    "        high_y = max (x1y1[0],x2y2[0])\n",
    "        \n",
    "        #condition on sign of slope\n",
    "        if (x2y2[0]>x1y1[0] and x2y2[1]>x1y1[1]) or (x2y2[0]<x1y1[0] and x2y2[1]<x1y1[1]):\n",
    "            for point in range(high_x-low_x+1):\n",
    "                self.increase_point((low_x+point,low_y+point))\n",
    "                \n",
    "        else:\n",
    "            for point in range(high_x-low_x+1):\n",
    "                self.increase_point((high_x-point,low_y+point))\n",
    "                \n",
    "    def count_intersections(self):\n",
    "        self.intersections = sum(sum(self.state>1))"
   ]
  },
  {
   "cell_type": "code",
   "execution_count": 127,
   "metadata": {},
   "outputs": [
    {
     "name": "stdout",
     "output_type": "stream",
     "text": [
      "Day 5 solution: 19258\n"
     ]
    }
   ],
   "source": [
    "f = open(r'C:\\Users\\19177\\Desktop\\Python Projects\\Programming-Puzzles\\Advent of Code\\Advent of Code Input\\Advent Day 5.txt','r')\n",
    "lines = f.readlines()\n",
    "\n",
    "Coordinates_one = []\n",
    "Coordinates_two = []\n",
    "\n",
    "#Parse the lines into sets of coordinates\n",
    "for line in range(len(lines)):\n",
    "    parse = lines[line].split()\n",
    "    x1y1 = list(map(int, parse[0].split(\",\")))\n",
    "    x2y2 = list(map(int, parse[-1].split(\",\")))\n",
    "    \n",
    "    Coordinates_one.append(x1y1)\n",
    "    Coordinates_two.append(x2y2)\n",
    "\n",
    "grid_size = max(max(Coordinates_two)[0], max(Coordinates_two)[1], max(Coordinates_one)[0], max(Coordinates_two)[0]) +2 \n",
    "\n",
    "my_grid = grid(grid_size)\n",
    "\n",
    "for line in range(len(Coordinates_one)):\n",
    "    #check if not a hor or ver line\n",
    "    if Coordinates_one[line][0] != Coordinates_two[line][0] and Coordinates_one[line][1] != Coordinates_two[line][1]:\n",
    "        #change below line to 'continue' to get answer to part 1\n",
    "        my_grid.plot_diagonal_line(Coordinates_one[line], Coordinates_two[line])\n",
    "    else:\n",
    "        my_grid.plot_straight_line(Coordinates_one[line], Coordinates_two[line])\n",
    "        \n",
    "my_grid.count_intersections()\n",
    "print(\"Day 5 solution: \" + str(my_grid.intersections))\n",
    "    \n"
   ]
  }
 ],
 "metadata": {
  "kernelspec": {
   "display_name": "Python 3",
   "language": "python",
   "name": "python3"
  },
  "language_info": {
   "codemirror_mode": {
    "name": "ipython",
    "version": 3
   },
   "file_extension": ".py",
   "mimetype": "text/x-python",
   "name": "python",
   "nbconvert_exporter": "python",
   "pygments_lexer": "ipython3",
   "version": "3.7.3"
  }
 },
 "nbformat": 4,
 "nbformat_minor": 2
}
