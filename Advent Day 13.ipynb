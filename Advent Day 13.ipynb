{
 "cells": [
  {
   "cell_type": "code",
   "execution_count": 188,
   "metadata": {},
   "outputs": [],
   "source": [
    "import numpy as np\n",
    "import sys\n",
    "def fold_hor(grid, coord):\n",
    "    for idx in range(len(grid[coord+1:-1])+1):\n",
    "        grid[coord-idx-1] = [x + y for x, y in zip(grid[coord-idx-1], grid[coord+idx+1])]\n",
    "    return grid[0:coord]\n",
    "\n",
    "def fold_ver(grid, coord):\n",
    "    fold_hor(grid.transpose(), coord)\n",
    "    return grid.transpose()[0:coord].transpose()\n",
    "\n",
    "\n",
    "f = open(r'C:\\Users\\19177\\Desktop\\Python Projects\\Programming-Puzzles\\Advent of Code\\Advent of Code Input\\Advent Day 13.txt','r')\n",
    "lines = f.readlines()\n",
    "\n",
    "folds = [line.strip() for line in lines if line[0]=='f']\n",
    "coords = [line for line in lines if len(line)<10]\n",
    "coords = coords[:-1]\n",
    "coords = [(int(coord.split(\",\")[1].strip()),int(coord.split(\",\")[0])) for coord in coords]\n",
    "\n",
    "folds = [(fold.split()[-1].split(\"=\")[0],fold.split()[-1].split(\"=\")[1]) for fold in folds]\n",
    "grid_size_x, grid_size_y = (max(map(lambda x: x[0], coords)), max(map(lambda x: x[1], coords)))\n",
    "\n",
    "grid_initial = np.zeros((grid_size_x+1, grid_size_y+1))\n",
    "\n",
    "for coord in coords:\n",
    "    grid_initial[coord[0]][coord[1]] = 1\n",
    "    \n",
    "grid_part2 = grid_initial\n",
    "#if folds[0][0] =='x':   \n",
    "#    grid_part1 = fold_ver(grid_initial, int(folds[0][1]))\n",
    "#else:   \n",
    "#    grid_part1 = fold_hor(grid_initial, int(folds[0][1]))\n",
    "    \n",
    "#D13P1\n",
    "#print(np.count_nonzero(grid_part1))\n",
    "\n",
    "for fold in folds:\n",
    "    if fold[0] =='x':   \n",
    "        grid_part2 = fold_ver(grid_part2, int(fold[1]))\n",
    "    else:   \n",
    "        grid_part2 = fold_hor(grid_part2, int(fold[1]))"
   ]
  },
  {
   "cell_type": "code",
   "execution_count": 189,
   "metadata": {
    "scrolled": true
   },
   "outputs": [
    {
     "data": {
      "text/plain": [
       "array([[ 3.,  0.,  0.,  9.,  0., 11.,  3., 20.,  5.,  0.,  1.,  0.,  0.,\n",
       "         8.,  0.,  9.,  0.,  0., 10.,  0.,  6.,  5.,  9., 13.,  0., 19.,\n",
       "        18., 12., 14.,  0.,  0.,  0.,  4.,  3.,  0., 13.,  5., 20.,  7.,\n",
       "         0.],\n",
       "       [ 2.,  0.,  0., 13.,  0.,  0.,  0.,  0.,  2.,  0.,  4.,  0., 10.,\n",
       "         0.,  0.,  2.,  0.,  0., 20.,  0.,  7.,  0.,  0.,  0.,  0.,  6.,\n",
       "         0.,  0.,  0.,  0.,  0.,  0.,  0.,  8.,  0.,  0.,  0.,  0.,  1.,\n",
       "         0.],\n",
       "       [12.,  5., 13.,  6.,  0.,  0.,  0.,  6.,  0.,  0.,  1.,  8.,  0.,\n",
       "         0.,  0.,  8., 10.,  2., 19.,  0.,  2., 11.,  7.,  0.,  0.,  7.,\n",
       "         6.,  4.,  0.,  0.,  0.,  0.,  0., 26.,  0.,  0.,  0.,  5.,  0.,\n",
       "         0.],\n",
       "       [ 9.,  0.,  0.,  3.,  0.,  0.,  9.,  0.,  0.,  0.,  2.,  0., 11.,\n",
       "         0.,  0.,  4.,  0.,  0.,  5.,  0.,  1.,  0.,  0.,  0.,  0., 12.,\n",
       "         0.,  0.,  0.,  0.,  0.,  0.,  0.,  7.,  0.,  0.,  4.,  0.,  0.,\n",
       "         0.],\n",
       "       [ 4.,  0.,  0., 16.,  0.,  8.,  0.,  0.,  0.,  0.,  2.,  0.,  8.,\n",
       "         0.,  0.,  9.,  0.,  0.,  4.,  0.,  1.,  0.,  0.,  0.,  0.,  2.,\n",
       "         0.,  0.,  0.,  0.,  9.,  0.,  0., 13.,  0., 14.,  0.,  0.,  0.,\n",
       "         0.],\n",
       "       [ 2.,  0.,  0., 15.,  0., 19.,  5.,  7., 11.,  0.,  4.,  0.,  0.,\n",
       "         3.,  0.,  8.,  0.,  0.,  5.,  0., 14.,  0.,  0.,  0.,  0., 12.,\n",
       "         8.,  3., 10.,  0.,  0.,  8.,  6.,  0.,  0., 10., 15.,  5.,  4.,\n",
       "         0.]])"
      ]
     },
     "execution_count": 189,
     "metadata": {},
     "output_type": "execute_result"
    }
   ],
   "source": [
    "np.set_printoptions(threshold=sys.maxsize)\n",
    "grid_part2"
   ]
  }
 ],
 "metadata": {
  "kernelspec": {
   "display_name": "Python 3",
   "language": "python",
   "name": "python3"
  },
  "language_info": {
   "codemirror_mode": {
    "name": "ipython",
    "version": 3
   },
   "file_extension": ".py",
   "mimetype": "text/x-python",
   "name": "python",
   "nbconvert_exporter": "python",
   "pygments_lexer": "ipython3",
   "version": "3.7.3"
  }
 },
 "nbformat": 4,
 "nbformat_minor": 2
}
