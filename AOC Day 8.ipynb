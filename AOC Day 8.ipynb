{
 "cells": [
  {
   "cell_type": "code",
   "execution_count": 10,
   "metadata": {},
   "outputs": [
    {
     "data": {
      "text/plain": [
       "383"
      ]
     },
     "execution_count": 10,
     "metadata": {},
     "output_type": "execute_result"
    }
   ],
   "source": [
    "import numpy as np\n",
    "#This is by far my messiest code. \n",
    "#Goal here was to see how fast I can come up with the right answer without worrying about neatness or cleverness.\n",
    "\n",
    "#Part 1 solution\n",
    "f = open(r'C:\\Users\\19177\\Desktop\\Python Projects\\Programming-Puzzles\\Advent of Code\\Advent of Code Input\\Advent Day 8.txt','r')\n",
    "lines = f.readlines()\n",
    "\n",
    "code = [lines[idx].split(\"|\")[0] for idx in range(len(lines))]\n",
    "output = [lines[idx].split(\"|\")[-1] for idx in range(len(lines))]\n",
    "\n",
    "\n",
    "part_1_sol = 0\n",
    "\n",
    "for idx in range(len(output)):\n",
    "    parse = output[idx].split()\n",
    "    for idx_2 in range(len(parse)):\n",
    "        if len(parse[idx_2]) == 2 or len(parse[idx_2]) == 4 or len(parse[idx_2]) == 3 or len(parse[idx_2]) == 7:\n",
    "            part_1_sol += 1\n",
    "\n",
    "part_1_sol\n",
    "\n",
    "#output = lines[1].split()\n",
    "#len(output[0])"
   ]
  },
  {
   "cell_type": "code",
   "execution_count": 11,
   "metadata": {
    "scrolled": true
   },
   "outputs": [
    {
     "data": {
      "text/plain": [
       "998900"
      ]
     },
     "execution_count": 11,
     "metadata": {},
     "output_type": "execute_result"
    }
   ],
   "source": [
    "#Part 2 solution\n",
    "solution = 0\n",
    "for line in range(len(code)):  \n",
    "    parse = code[line].split()\n",
    "    for num in parse:\n",
    "        if len(num) == 2:\n",
    "            one = sorted(num)\n",
    "        elif len(num) == 4:\n",
    "            four = sorted(num)\n",
    "        elif len(num) == 3:\n",
    "            seven = sorted(num)\n",
    "        elif len(num) == 7:\n",
    "            eight = sorted(num)\n",
    "    for num in parse:\n",
    "   \n",
    "        if len(num) == 5 and len(list(set(sorted(num)) - set(one)))==3:\n",
    "            three = sorted(num)    \n",
    "        elif len(num) == 5 and len(list(set(sorted(num)) - set(four)))==3:\n",
    "            two = sorted(num)      \n",
    "        elif len(num) == 5 and len(list(set(sorted(num)) - set(four)))==2:\n",
    "            five = sorted(num)  \n",
    "        \n",
    "    nine = list(set(three + four))\n",
    "\n",
    "    for num in parse:\n",
    "\n",
    "        if len(num) == 6 and sorted(num) != nine and len(list(set(sorted(num)) - set(one)))==4:\n",
    "            zero = sorted(num)\n",
    "        elif len(num) == 6 and sorted(num) != nine and len(list(set(sorted(num)) - set(one)))==5:\n",
    "            six = sorted(num)\n",
    "\n",
    "\n",
    "    #\"\".join(sorted(parse[0])).replace(\"\".join(sorted(parse[1])), '')\n",
    "    number = []\n",
    "    for idx in range(len(output[line].split())):\n",
    "        if set(sorted(output[line].split()[idx])) == set(one):\n",
    "            number.append(1)\n",
    "        elif set(sorted(output[line].split()[idx])) == set(two):\n",
    "            number.append(2)\n",
    "        elif set(sorted(output[line].split()[idx])) == set(three):\n",
    "            number.append(3)\n",
    "        elif set(sorted(output[line].split()[idx])) == set(four):\n",
    "            number.append(4)\n",
    "        elif set(sorted(output[line].split()[idx])) == set(five):\n",
    "            number.append(5)\n",
    "        elif set(sorted(output[line].split()[idx])) == set(six):\n",
    "            number.append(6)\n",
    "        elif set(sorted(output[line].split()[idx])) == set(seven):\n",
    "            number.append(7)\n",
    "        elif set(sorted(output[line].split()[idx])) == set(eight):\n",
    "            number.append(8)\n",
    "        elif set(sorted(output[line].split()[idx]))== set(nine):\n",
    "            number.append(9)\n",
    "        else:\n",
    "            number.append(0)       \n",
    "    solution += int(''.join(map(str, number)))\n",
    "    \n",
    "solution"
   ]
  }
 ],
 "metadata": {
  "kernelspec": {
   "display_name": "Python 3",
   "language": "python",
   "name": "python3"
  },
  "language_info": {
   "codemirror_mode": {
    "name": "ipython",
    "version": 3
   },
   "file_extension": ".py",
   "mimetype": "text/x-python",
   "name": "python",
   "nbconvert_exporter": "python",
   "pygments_lexer": "ipython3",
   "version": "3.7.3"
  }
 },
 "nbformat": 4,
 "nbformat_minor": 2
}
