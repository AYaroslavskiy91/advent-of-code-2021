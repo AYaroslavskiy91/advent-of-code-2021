{
 "cells": [
  {
   "cell_type": "code",
   "execution_count": 22,
   "metadata": {},
   "outputs": [
    {
     "data": {
      "text/plain": [
       "85015836.0"
      ]
     },
     "execution_count": 22,
     "metadata": {},
     "output_type": "execute_result"
    }
   ],
   "source": [
    "def fuel_cost(positions, index):\n",
    "    cost_for_army = 0\n",
    "    for idx in range(len(positions)):\n",
    "        cost_for_army += abs(positions[idx]-positions[index])\n",
    "    return cost_for_army\n",
    "\n",
    "def fuel_cost_dyn(positions, attempt):\n",
    "    cost_for_army = 0\n",
    "    for idx in range(len(positions)):\n",
    "        distance = abs(positions[idx]-attempt)\n",
    "        cost_for_army += distance*(distance+1)/2\n",
    "    return cost_for_army\n",
    "\n",
    "f = open(r'C:\\Users\\19177\\Desktop\\Python Projects\\Programming-Puzzles\\Advent of Code\\Advent of Code Input\\Advent Day 7.txt','r')\n",
    "lines = f.readlines()\n",
    "\n",
    "positions = [int(idx) for idx in lines[0].split(\",\")]\n",
    "             \n",
    "fuel_cost = [fuel_cost(positions, index) for index in range(len(positions))]\n",
    "fuel_cost_dyn = [fuel_cost_dyn(positions, attempt) for attempt in range(min(positions),max(positions))]\n",
    "min(fuel_cost)\n",
    "min(fuel_cost_dyn)"
   ]
  }
 ],
 "metadata": {
  "kernelspec": {
   "display_name": "Python 3",
   "language": "python",
   "name": "python3"
  },
  "language_info": {
   "codemirror_mode": {
    "name": "ipython",
    "version": 3
   },
   "file_extension": ".py",
   "mimetype": "text/x-python",
   "name": "python",
   "nbconvert_exporter": "python",
   "pygments_lexer": "ipython3",
   "version": "3.7.3"
  }
 },
 "nbformat": 4,
 "nbformat_minor": 2
}
