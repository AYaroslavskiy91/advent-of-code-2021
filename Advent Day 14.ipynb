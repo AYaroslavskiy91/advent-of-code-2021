{
 "cells": [
  {
   "cell_type": "code",
   "execution_count": 138,
   "metadata": {},
   "outputs": [
    {
     "name": "stdout",
     "output_type": "stream",
     "text": [
      "3697\n",
      "4371307836157\n"
     ]
    }
   ],
   "source": [
    "import pandas as pd\n",
    "\n",
    "def polymerization(str_pair):\n",
    "    return (str_pair[0] + pair_ins_rules[str_pair])\n",
    "\n",
    "def polymer_insert(polymer):\n",
    "    new_polymer = ''\n",
    "    for idx in range(len(polymer)-1):\n",
    "        new_polymer += polymerization(polymer[idx:idx+2])\n",
    "    return new_polymer + polymer[-1]\n",
    "\n",
    "def polymer_insert_2(str_pair):\n",
    "    return (str_pair[0] + pair_ins_rules[str_pair],pair_ins_rules[str_pair] + str_pair[1])\n",
    "    \n",
    "f = open(r'C:\\Users\\19177\\Desktop\\Python Projects\\Programming-Puzzles\\Advent of Code\\Advent of Code Input\\Advent Day 14.txt','r')\n",
    "lines = f.readlines()\n",
    "\n",
    "pol_template = lines[0].strip()\n",
    "pair_ins_rules = {}\n",
    "\n",
    "for idx in range(2,len(lines)):\n",
    "    pair_ins_rules[lines[idx].split()[0]] = lines[idx].split()[-1]\n",
    "\n",
    "    #Part 1\n",
    "final_polymer = pol_template\n",
    "steps = 10\n",
    "for idx in range(steps):\n",
    "    final_polymer = polymer_insert(final_polymer)\n",
    "\n",
    "counts = pd.Series(list(final_polymer)).value_counts()\n",
    "D13P1 = counts[0]-counts[-1]\n",
    "print(D13P1)\n",
    "\n",
    "#Part 2\n",
    "pair_counts = {key :  0 for key in pair_ins_rules }\n",
    "for idx in range(len(pol_template)-1):\n",
    "    pair_counts[pol_template[idx:idx+2]]+=1\n",
    "pair_counts_update = {key :  pair_counts[key] for key in pair_counts }\n",
    "\n",
    "steps_2 = 40\n",
    "for idx in range(steps_2):\n",
    "    for key in pair_counts:\n",
    "        new_pairs = polymer_insert_2(key)\n",
    "        pair_counts_update[new_pairs[0]] += pair_counts[key]\n",
    "        pair_counts_update[new_pairs[1]] += pair_counts[key]\n",
    "        pair_counts_update[key] -= pair_counts[key]\n",
    "    pair_counts = {key :  pair_counts_update[key] for key in pair_counts_update}\n",
    "\n",
    "list_chars = ''\n",
    "for key in pair_counts:\n",
    "    list_chars +=key\n",
    "list_chars = set([char for char in list_chars])\n",
    "\n",
    "char_counts = {}\n",
    "for char in list_chars:\n",
    "    char_counts[char] = 0\n",
    "    \n",
    "for key in pair_counts:\n",
    "    char_counts[key[0]] += pair_counts[key]\n",
    "    char_counts[key[1]] += pair_counts[key]\n",
    "\n",
    "char_counts[pol_template[0]] +=1\n",
    "char_counts[pol_template[-1]] +=1\n",
    "\n",
    "for key, value in char_counts.items():\n",
    "    char_counts[key] = value/2\n",
    "    \n",
    "max_key = max(char_counts, key=char_counts.get)\n",
    "min_key = min(char_counts, key=char_counts.get)\n",
    "\n",
    "D14P2 = int(char_counts[max_key] - char_counts[min_key])\n",
    "print(D14P2)"
   ]
  }
 ],
 "metadata": {
  "kernelspec": {
   "display_name": "Python 3",
   "language": "python",
   "name": "python3"
  },
  "language_info": {
   "codemirror_mode": {
    "name": "ipython",
    "version": 3
   },
   "file_extension": ".py",
   "mimetype": "text/x-python",
   "name": "python",
   "nbconvert_exporter": "python",
   "pygments_lexer": "ipython3",
   "version": "3.7.3"
  }
 },
 "nbformat": 4,
 "nbformat_minor": 2
}
