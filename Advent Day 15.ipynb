{
 "cells": [
  {
   "cell_type": "code",
   "execution_count": 354,
   "metadata": {},
   "outputs": [
    {
     "name": "stdout",
     "output_type": "stream",
     "text": [
      "523.0\n",
      "2876.0\n"
     ]
    }
   ],
   "source": [
    "import numpy as np\n",
    "def dijkstra(node):\n",
    "    neighbors = [(node[0]+1, node[1]), (node[0]-1, node[1]), (node[0], node[1]+1), (node[0], node[1]-1)]\n",
    "    \n",
    "    for neighbor in neighbors:\n",
    "        if visited[neighbor[0]][neighbor[1]] == 0:\n",
    "            new_path = distances[node[0]][node[1]] + graph[neighbor[0]][neighbor[1]]\n",
    "            distances[neighbor[0]][neighbor[1]] = min(distances[neighbor[0]][neighbor[1]], new_path)\n",
    "            \n",
    "    visited[node[0]][node[1]] = 1\n",
    "    return \n",
    "\n",
    "def grid_expand(grid):\n",
    "    full_grid = []\n",
    "    for line in np.array(grid):\n",
    "        temp = []\n",
    "        for idx in range(5):\n",
    "            temp.append(line+idx)\n",
    "        full_grid.append(list(np.concatenate(temp)))\n",
    "    new_row = np.array(full_grid)\n",
    "    for idx in range(1,5):\n",
    "        args = (full_grid, list(new_row+idx))\n",
    "        full_grid = list(np.concatenate(args))\n",
    "    fullest_grid = np.array([list(line) for line in full_grid])\n",
    "    fullest_grid[fullest_grid>9] -= 9  \n",
    "    return list(fullest_grid)\n",
    "\n",
    "\n",
    "f = open(r'C:\\Users\\19177\\Desktop\\Python Projects\\Programming-Puzzles\\Advent of Code\\Advent of Code Input\\Advent Day 15.txt','r')\n",
    "lines = f.readlines()\n",
    "\n",
    "graph = [list(map(int, line.strip())) for line in lines]\n",
    "temp_part_2 = grid_expand(graph)\n",
    "distances = np.ones((len(graph),len(graph)))*np.inf\n",
    "distances[0][0] = 0\n",
    "visited = np.zeros((len(graph), len(graph)))\n",
    "distances = np.pad(distances, pad_width=1, mode = 'constant', constant_values = np.inf)\n",
    "graph = np.pad(graph, pad_width=1, mode = 'constant', constant_values = 99)\n",
    "visited = np.pad(visited, pad_width=1, mode = 'constant', constant_values = 1)\n",
    "\n",
    "while visited[-2][-2]==0:\n",
    "    locations = np.where(visited == 0)\n",
    "    min_loc = np.argmin(distances[locations])\n",
    "    next_node = locations[0][min_loc], locations[1][min_loc]\n",
    "    dijkstra(next_node)\n",
    "\n",
    "print(distances[-2][-2])\n",
    "#part 2\n",
    "graph = temp_part_2\n",
    "distances = np.ones((len(graph),len(graph)))*np.inf\n",
    "distances[0][0] = 0\n",
    "visited = np.zeros((len(graph), len(graph)))\n",
    "distances = np.pad(distances, pad_width=1, mode = 'constant', constant_values = np.inf)\n",
    "graph = np.pad(graph, pad_width=1, mode = 'constant', constant_values = 99)\n",
    "visited = np.pad(visited, pad_width=1, mode = 'constant', constant_values = 1)\n",
    "while visited[-2][-2]==0:\n",
    "    locations = np.where(visited == 0)\n",
    "    min_loc = np.argmin(distances[locations])\n",
    "    next_node = locations[0][min_loc], locations[1][min_loc]\n",
    "    dijkstra(next_node)\n",
    "print(distances[-2][-2])"
   ]
  }
 ],
 "metadata": {
  "kernelspec": {
   "display_name": "Python 3",
   "language": "python",
   "name": "python3"
  },
  "language_info": {
   "codemirror_mode": {
    "name": "ipython",
    "version": 3
   },
   "file_extension": ".py",
   "mimetype": "text/x-python",
   "name": "python",
   "nbconvert_exporter": "python",
   "pygments_lexer": "ipython3",
   "version": "3.7.3"
  }
 },
 "nbformat": 4,
 "nbformat_minor": 2
}
